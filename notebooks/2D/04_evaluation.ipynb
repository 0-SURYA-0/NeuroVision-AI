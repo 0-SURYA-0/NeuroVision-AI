{
 "cells": [
  {
   "cell_type": "code",
   "execution_count": null,
   "id": "7a878056",
   "metadata": {},
   "outputs": [],
   "source": [
    "import os, sys, numpy as np, torch, matplotlib.pyplot as plt\n",
    "from sklearn.metrics import roc_curve, auc"
   ]
  },
  {
   "cell_type": "code",
   "execution_count": null,
   "id": "cd82c9eb",
   "metadata": {},
   "outputs": [],
   "source": [
    "ROOT_DIR = os.path.abspath(\"..\")\n",
    "DATA_DIR = os.path.join(ROOT_DIR, \"data\", \"processed\")\n",
    "CKPT_DIR = os.path.join(ROOT_DIR, \"results\", \"checkpoints\")\n",
    "VIS_DIR  = os.path.join(ROOT_DIR, \"results\", \"visualizations\")\n",
    "os.makedirs(VIS_DIR, exist_ok=True)"
   ]
  },
  {
   "cell_type": "code",
   "execution_count": null,
   "id": "8089b1fc",
   "metadata": {},
   "outputs": [],
   "source": [
    "sys.path.append(ROOT_DIR)\n",
    "from core.model import TumorNet34Bayes\n",
    "from core.utils import compute_metrics, ece_score"
   ]
  },
  {
   "cell_type": "code",
   "execution_count": null,
   "id": "cd73b14f",
   "metadata": {},
   "outputs": [],
   "source": [
    "device = torch.device(\"cuda\" if torch.cuda.is_available() else \"cpu\")"
   ]
  },
  {
   "cell_type": "code",
   "execution_count": null,
   "id": "b82b1daf",
   "metadata": {},
   "outputs": [],
   "source": [
    "model = TumorNet34Bayes(dropout_p=0.4).to(device)\n",
    "model.load_state_dict(torch.load(\n",
    "    os.path.join(CKPT_DIR, \"model_weights_best.pth\"),  \n",
    "    map_location=device\n",
    "))\n",
    "model.eval()"
   ]
  },
  {
   "cell_type": "code",
   "execution_count": null,
   "id": "7f98e96d",
   "metadata": {},
   "outputs": [],
   "source": [
    "X_test = np.load(os.path.join(DATA_DIR, \"X_test.npy\"))\n",
    "y_test = np.load(os.path.join(DATA_DIR, \"y_test.npy\"))\n",
    "\n",
    "X = torch.tensor(X_test, dtype=torch.float32).permute(0,3,1,2).to(device)"
   ]
  },
  {
   "cell_type": "code",
   "execution_count": null,
   "id": "5a884050",
   "metadata": {},
   "outputs": [],
   "source": [
    "B = X.size(0)\n",
    "probs_list = []  \n",
    "\n",
    "with torch.no_grad():\n",
    "    for i in range(0, B, 32):\n",
    "        xb = X[i:i+32]\n",
    "        logits, model_probs, conf = model(xb) \n",
    "        p = torch.sigmoid(logits).cpu().numpy().ravel().tolist()\n",
    "        probs_list.extend(p)"
   ]
  },
  {
   "cell_type": "code",
   "execution_count": null,
   "id": "5ca263a6",
   "metadata": {},
   "outputs": [],
   "source": [
    "labels = y_test.astype(int)\n",
    "metrics = compute_metrics(labels, np.array(probs_list), threshold=0.5)\n",
    "print(\"Metrics:\", metrics)\n",
    "print(\"ECE:\", ece_score(np.array(probs_list), labels, n_bins=15))"
   ]
  },
  {
   "cell_type": "code",
   "execution_count": null,
   "id": "62d9f4b2",
   "metadata": {},
   "outputs": [],
   "source": [
    "fpr, tpr, _ = roc_curve(labels, probs_list)\n",
    "roc_auc = auc(fpr, tpr)"
   ]
  },
  {
   "cell_type": "code",
   "execution_count": null,
   "id": "9cc6b085",
   "metadata": {},
   "outputs": [],
   "source": [
    "plt.figure(figsize=(6,6))\n",
    "plt.plot(fpr, tpr, lw=2, label=f\"AUC={roc_auc:.3f}\")\n",
    "plt.plot([0,1],[0,1],'--', lw=1)\n",
    "plt.xlabel(\"False Positive Rate\"); plt.ylabel(\"True Positive Rate\")\n",
    "plt.title(\"ROC Curve\")\n",
    "plt.legend(loc=\"lower right\")\n",
    "plt.savefig(os.path.join(VIS_DIR, \"roc_curve.png\"))\n",
    "plt.show()"
   ]
  }
 ],
 "metadata": {
  "kernelspec": {
   "display_name": "tf-gpu",
   "language": "python",
   "name": "python3"
  },
  "language_info": {
   "codemirror_mode": {
    "name": "ipython",
    "version": 3
   },
   "file_extension": ".py",
   "mimetype": "text/x-python",
   "name": "python",
   "nbconvert_exporter": "python",
   "pygments_lexer": "ipython3",
   "version": "3.8.20"
  }
 },
 "nbformat": 4,
 "nbformat_minor": 5
}
