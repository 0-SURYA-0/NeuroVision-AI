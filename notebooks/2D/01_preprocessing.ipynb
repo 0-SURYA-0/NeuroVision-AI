{
 "cells": [
  {
   "cell_type": "code",
   "execution_count": null,
   "id": "e59b5732",
   "metadata": {},
   "outputs": [],
   "source": [
    "import os, cv2, glob, json, random\n",
    "import numpy as np\n",
    "from sklearn.model_selection import train_test_split\n",
    "import matplotlib.pyplot as plt"
   ]
  },
  {
   "cell_type": "code",
   "execution_count": null,
   "id": "0b0086d8",
   "metadata": {},
   "outputs": [],
   "source": [
    "ROOT_DIR = \"..\"  \n",
    "DATA_RAW_YES = os.path.join(ROOT_DIR, \"data\", \"yes\")\n",
    "DATA_RAW_NO  = os.path.join(ROOT_DIR, \"data\", \"no\")\n",
    "DATA_OUT = os.path.join(ROOT_DIR, \"data\", \"processed\")\n",
    "os.makedirs(DATA_OUT, exist_ok=True)"
   ]
  },
  {
   "cell_type": "code",
   "execution_count": null,
   "id": "754472bf",
   "metadata": {},
   "outputs": [],
   "source": [
    "IMG_SIZE = 224\n",
    "random.seed(42)\n",
    "np.random.seed(42)"
   ]
  },
  {
   "cell_type": "code",
   "execution_count": null,
   "id": "8f211936",
   "metadata": {},
   "outputs": [],
   "source": [
    "def read_folder(folder, label):\n",
    "    data = []\n",
    "    for fp in sorted(glob.glob(os.path.join(folder, \"*\"))):\n",
    "        if fp.lower().endswith((\".jpg\",\".jpeg\",\".png\")):\n",
    "            img = cv2.imread(fp, cv2.IMREAD_COLOR)\n",
    "            if img is None: \n",
    "                continue\n",
    "            img = cv2.cvtColor(img, cv2.COLOR_BGR2RGB)\n",
    "            img = cv2.resize(img, (IMG_SIZE, IMG_SIZE))\n",
    "            img = img.astype(np.float32) / 255.0\n",
    "            data.append((img, label))\n",
    "    return data"
   ]
  },
  {
   "cell_type": "code",
   "execution_count": null,
   "id": "410e962a",
   "metadata": {},
   "outputs": [],
   "source": [
    "yes = read_folder(DATA_RAW_YES, 1)\n",
    "no  = read_folder(DATA_RAW_NO, 0)\n",
    "assert len(yes) > 0 and len(no) > 0, \"⚠️ Raw folders (yes/no) seem empty.\""
   ]
  },
  {
   "cell_type": "code",
   "execution_count": null,
   "id": "bbbd715f",
   "metadata": {},
   "outputs": [],
   "source": [
    "all_data = yes + no\n",
    "random.shuffle(all_data)\n",
    "\n",
    "X = np.array([d[0] for d in all_data], dtype=np.float32)\n",
    "y = np.array([d[1] for d in all_data], dtype=np.int64)"
   ]
  },
  {
   "cell_type": "code",
   "execution_count": null,
   "id": "6d6afeec",
   "metadata": {},
   "outputs": [],
   "source": [
    "X_train, X_tmp, y_train, y_tmp = train_test_split(X, y, test_size=0.30, stratify=y, random_state=42)\n",
    "X_val, X_test, y_val, y_test   = train_test_split(X_tmp, y_tmp, test_size=0.50, stratify=y_tmp, random_state=42)"
   ]
  },
  {
   "cell_type": "code",
   "execution_count": null,
   "id": "dc059f83",
   "metadata": {},
   "outputs": [],
   "source": [
    "np.save(os.path.join(DATA_OUT, \"X_train.npy\"), X_train)\n",
    "np.save(os.path.join(DATA_OUT, \"y_train.npy\"), y_train)\n",
    "np.save(os.path.join(DATA_OUT, \"X_val.npy\"),   X_val)\n",
    "np.save(os.path.join(DATA_OUT, \"y_val.npy\"),   y_val)\n",
    "np.save(os.path.join(DATA_OUT, \"X_test.npy\"),  X_test)\n",
    "np.save(os.path.join(DATA_OUT, \"y_test.npy\"),  y_test)"
   ]
  },
  {
   "cell_type": "code",
   "execution_count": null,
   "id": "7c7ce6c9",
   "metadata": {},
   "outputs": [],
   "source": [
    "meta = {\n",
    "    \"train_size\": len(y_train),\n",
    "    \"val_size\": len(y_val),\n",
    "    \"test_size\": len(y_test),\n",
    "    \"img_size\": IMG_SIZE\n",
    "}\n",
    "with open(os.path.join(DATA_OUT, \"dataset_meta.json\"), \"w\") as f:\n",
    "    json.dump(meta, f, indent=2)\n",
    "\n",
    "print(\"✅ Saved splits and metadata to:\", DATA_OUT)"
   ]
  },
  {
   "cell_type": "code",
   "execution_count": null,
   "id": "ac21ba6f",
   "metadata": {},
   "outputs": [],
   "source": [
    "plt.figure(figsize=(8,4))\n",
    "for i in range(6):\n",
    "    plt.subplot(2,3,i+1)\n",
    "    plt.imshow(X_train[i])\n",
    "    plt.title(\"Tumor\" if y_train[i]==1 else \"No Tumor\")\n",
    "    plt.axis(\"off\")\n",
    "plt.tight_layout()\n",
    "plt.show()"
   ]
  }
 ],
 "metadata": {
  "kernelspec": {
   "display_name": "tf-gpu",
   "language": "python",
   "name": "python3"
  },
  "language_info": {
   "codemirror_mode": {
    "name": "ipython",
    "version": 3
   },
   "file_extension": ".py",
   "mimetype": "text/x-python",
   "name": "python",
   "nbconvert_exporter": "python",
   "pygments_lexer": "ipython3",
   "version": "3.8.20"
  }
 },
 "nbformat": 4,
 "nbformat_minor": 5
}
