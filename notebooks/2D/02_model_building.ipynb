{
 "cells": [
  {
   "cell_type": "code",
   "execution_count": null,
   "id": "f0334b7f",
   "metadata": {},
   "outputs": [],
   "source": [
    "import os, sys, torch\n",
    "sys.path.append(os.path.abspath(\"..\"))\n",
    "\n",
    "from core.model import TumorNet34Bayes\n",
    "from torchinfo import summary"
   ]
  },
  {
   "cell_type": "code",
   "execution_count": null,
   "id": "c512084b",
   "metadata": {},
   "outputs": [],
   "source": [
    "device = torch.device(\"cuda\" if torch.cuda.is_available() else \"cpu\")\n",
    "print(\"Device:\", device)"
   ]
  },
  {
   "cell_type": "code",
   "execution_count": null,
   "id": "3063fdcd",
   "metadata": {},
   "outputs": [],
   "source": [
    "print(\"\\n===== TumorNet (Deterministic) =====\")\n",
    "model = TumorNet34Bayes(dropout_p=0.4).to(device)\n",
    "summary(model, input_size=(1, 3, 224, 224), \n",
    "        col_names=(\"input_size\",\"output_size\",\"num_params\",\"kernel_size\",\"mult_adds\"))"
   ]
  },
  {
   "cell_type": "code",
   "execution_count": null,
   "id": "a5faab3b",
   "metadata": {},
   "outputs": [],
   "source": [
    "print(\"\\n===== TumorNet34Bayes (Bayesian) =====\")\n",
    "model_bayes = TumorNet34Bayes(dropout_p=0.4).to(device)\n",
    "summary(model_bayes, input_size=(1, 3, 224, 224), \n",
    "        col_names=(\"input_size\",\"output_size\",\"num_params\",\"kernel_size\",\"mult_adds\"))"
   ]
  }
 ],
 "metadata": {
  "kernelspec": {
   "display_name": "tf-gpu",
   "language": "python",
   "name": "python3"
  },
  "language_info": {
   "codemirror_mode": {
    "name": "ipython",
    "version": 3
   },
   "file_extension": ".py",
   "mimetype": "text/x-python",
   "name": "python",
   "nbconvert_exporter": "python",
   "pygments_lexer": "ipython3",
   "version": "3.8.20"
  }
 },
 "nbformat": 4,
 "nbformat_minor": 5
}
