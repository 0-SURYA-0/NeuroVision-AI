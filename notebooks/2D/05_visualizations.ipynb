{
 "cells": [
  {
   "cell_type": "code",
   "execution_count": null,
   "id": "c247dc41",
   "metadata": {},
   "outputs": [],
   "source": [
    "import os, sys, numpy as np, torch, matplotlib.pyplot as plt, cv2\n",
    "sys.path.append(os.path.abspath(\"..\"))\n",
    "\n",
    "from core.model import TumorNet34Bayes\n",
    "from core.utils import GradCAMpp\n",
    "from contextlib import contextmanager"
   ]
  },
  {
   "cell_type": "code",
   "execution_count": null,
   "id": "2dd2452d",
   "metadata": {},
   "outputs": [],
   "source": [
    "ROOT_DIR = os.path.abspath(\"..\")\n",
    "DATA_DIR = os.path.join(ROOT_DIR, \"data\", \"processed\")\n",
    "CKPT_DIR = os.path.join(ROOT_DIR, \"results\", \"checkpoints\")\n",
    "VIS_DIR  = os.path.join(ROOT_DIR, \"results\", \"visualizations\")\n",
    "os.makedirs(VIS_DIR, exist_ok=True)"
   ]
  },
  {
   "cell_type": "code",
   "execution_count": null,
   "id": "e97a4660",
   "metadata": {},
   "outputs": [],
   "source": [
    "device = torch.device(\"cuda\" if torch.cuda.is_available() else \"cpu\")"
   ]
  },
  {
   "cell_type": "code",
   "execution_count": null,
   "id": "13b4a7cf",
   "metadata": {},
   "outputs": [],
   "source": [
    "model = TumorNet34Bayes(dropout_p=0.4).to(device)\n",
    "model.load_state_dict(torch.load(\n",
    "    os.path.join(CKPT_DIR, \"model_weights_best.pth\"),  \n",
    "    map_location=device\n",
    "))\n",
    "model.eval()"
   ]
  },
  {
   "cell_type": "code",
   "execution_count": null,
   "id": "501c3a01",
   "metadata": {},
   "outputs": [],
   "source": [
    "X_test = np.load(os.path.join(DATA_DIR, \"X_test.npy\"))\n",
    "y_test = np.load(os.path.join(DATA_DIR, \"y_test.npy\"))\n",
    "X_test_t = torch.tensor(X_test, dtype=torch.float32).permute(0,3,1,2).to(device)"
   ]
  },
  {
   "cell_type": "code",
   "execution_count": null,
   "id": "717f2a33",
   "metadata": {},
   "outputs": [],
   "source": [
    "idx = 0\n",
    "x = X_test_t[idx:idx+1]\n",
    "\n",
    "gc = GradCAMpp(model, target_layer=\"layer4\")\n",
    "model.zero_grad(set_to_none=True)"
   ]
  },
  {
   "cell_type": "code",
   "execution_count": null,
   "id": "ff46831c",
   "metadata": {},
   "outputs": [],
   "source": [
    "logits, conf, probs = model(x)      \n",
    "logits.sum().backward()\n",
    "cam = gc.generate(logits).squeeze(0).detach().cpu().numpy()\n",
    "gc.remove()"
   ]
  },
  {
   "cell_type": "code",
   "execution_count": null,
   "id": "1ffa00ba",
   "metadata": {},
   "outputs": [],
   "source": [
    "base_img = (X_test[idx] * 255).astype(np.uint8)\n",
    "cam_up = cv2.resize(cam, (base_img.shape[1], base_img.shape[0]))\n",
    "plt.imshow(base_img)\n",
    "plt.imshow(cam_up, cmap=\"jet\", alpha=0.5)\n",
    "plt.title(f\"Grad-CAM++ | Label={int(y_test[idx])}\")\n",
    "plt.axis(\"off\")\n",
    "plt.savefig(os.path.join(VIS_DIR, \"gradcampp_example.png\"))\n",
    "plt.show()"
   ]
  },
  {
   "cell_type": "code",
   "execution_count": null,
   "id": "710fc731",
   "metadata": {},
   "outputs": [],
   "source": [
    "@contextmanager\n",
    "def enable_dropout(model):\n",
    "    \"\"\"Context manager to enable dropout during inference.\"\"\"\n",
    "    training_states = {}\n",
    "    for m in model.modules():\n",
    "        if isinstance(m, torch.nn.Dropout):\n",
    "            training_states[m] = m.training\n",
    "            m.train()\n",
    "    try:\n",
    "        yield\n",
    "    finally:\n",
    "        for m, state in training_states.items():\n",
    "            m.train(state)"
   ]
  },
  {
   "cell_type": "code",
   "execution_count": null,
   "id": "53cc5c9b",
   "metadata": {},
   "outputs": [],
   "source": [
    "@torch.no_grad()\n",
    "def mc_pass(model, x, T=20):\n",
    "    \"\"\"MC Dropout forward pass safe for batch size 1.\"\"\"\n",
    "    preds = []\n",
    "    with enable_dropout(model):  \n",
    "        for _ in range(T):\n",
    "            logits, probs, conf = model(x) \n",
    "            preds.append(torch.sigmoid(logits))\n",
    "    preds = torch.stack(preds, dim=0)\n",
    "    return preds.mean(0).squeeze(1), preds.std(0).squeeze(1)"
   ]
  },
  {
   "cell_type": "code",
   "execution_count": null,
   "id": "e36b7a4c",
   "metadata": {},
   "outputs": [],
   "source": [
    "idx = 1\n",
    "x = X_test_t[idx:idx+1]\n",
    "mean_p, epistemic = mc_pass(model, x, T=20)"
   ]
  },
  {
   "cell_type": "code",
   "execution_count": null,
   "id": "991b1e5b",
   "metadata": {},
   "outputs": [],
   "source": [
    "plt.imshow(X_test[idx])\n",
    "plt.title(f\"MC Dropout: p={float(mean_p.item()):.2f}, epi-σ={float(epistemic.item()):.2f}\")\n",
    "plt.axis(\"off\")\n",
    "plt.savefig(os.path.join(VIS_DIR, \"uncertainty_example.png\"))\n",
    "plt.show()"
   ]
  }
 ],
 "metadata": {
  "kernelspec": {
   "display_name": "tf-gpu",
   "language": "python",
   "name": "python3"
  },
  "language_info": {
   "codemirror_mode": {
    "name": "ipython",
    "version": 3
   },
   "file_extension": ".py",
   "mimetype": "text/x-python",
   "name": "python",
   "nbconvert_exporter": "python",
   "pygments_lexer": "ipython3",
   "version": "3.8.20"
  }
 },
 "nbformat": 4,
 "nbformat_minor": 5
}
